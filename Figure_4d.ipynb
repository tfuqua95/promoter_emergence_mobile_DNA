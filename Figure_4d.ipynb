{
 "cells": [
  {
   "cell_type": "markdown",
   "id": "24e3e9b7-d308-4b03-960a-1c92c41a718f",
   "metadata": {},
   "source": [
    "# Run the following cells to load the Lagator model.\""
   ]
  },
  {
   "cell_type": "markdown",
   "id": "0f8da9ea-eb77-4b1d-b0e6-7ec5bda9b7cd",
   "metadata": {},
   "source": [
    "### Action required: update these directories"
   ]
  },
  {
   "cell_type": "code",
   "execution_count": 5,
   "id": "e413d4c9-b050-489a-8393-e1dc320bf667",
   "metadata": {},
   "outputs": [],
   "source": [
    "# Model folder\n",
    "model_path = '/mnt/c/users/timot/desktop/lagator/Brickplot_from_seq/Thermoters-master/'\n",
    "\n",
    "# Fasta file with sequences\n",
    "input_fasta_filepath = '/mnt/c/users/timot/desktop/lagator/Brickplot_from_seq/Input/v1.fasta'\n",
    "\n",
    "# Output folder\n",
    "output_folder = model_path + '/mnt/c/users/timot/desktop/lagator/Brickplot_from_seq/Output/'"
   ]
  },
  {
   "cell_type": "markdown",
   "id": "de01e164-f730-42ba-853e-734a1020cad2",
   "metadata": {},
   "source": [
    "### Parameters and preprocessing"
   ]
  },
  {
   "cell_type": "code",
   "execution_count": 4,
   "id": "df7faac9-6e02-4146-9f56-6f60e7a02ac2",
   "metadata": {},
   "outputs": [
    {
     "name": "stdout",
     "output_type": "stream",
     "text": [
      "/mnt/c/users/timot/desktop/lagator/Brickplot_from_seq/Thermoters-master/notebooks\n"
     ]
    }
   ],
   "source": [
    "import os\n",
    "print(os.getcwd())\n",
    "os.chdir(model_path + 'functions/')"
   ]
  },
  {
   "cell_type": "code",
   "execution_count": 6,
   "id": "d3aa5ecb-d38c-4932-a5aa-5c00f24a845a",
   "metadata": {},
   "outputs": [
    {
     "name": "stdout",
     "output_type": "stream",
     "text": [
      "/home/fuqua/.local/lib/python3.10/site-packages/numpy/core/include\n"
     ]
    }
   ],
   "source": [
    "# %%file setup.py\n",
    "from setuptools import setup\n",
    "from Cython.Build import cythonize\n",
    "import numpy as np\n",
    "import os\n",
    "import Cython\n",
    "\n",
    "print(np.get_include())\n",
    "\n",
    "# os.environ[\"C_INCLUDE_PATH\"] = np.get_include()\n",
    "# setup(\n",
    "#     ext_modules = cythonize(model_path +'functions/fastFunctions.pyx')\n",
    "# )"
   ]
  },
  {
   "cell_type": "code",
   "execution_count": 7,
   "id": "474d61c5-8432-4d38-9b36-c7be9dc18f08",
   "metadata": {},
   "outputs": [],
   "source": [
    "from Bio import SeqIO\n",
    "from Bio.Seq import Seq\n",
    "from __future__ import division, print_function, absolute_import\n",
    "import os\n",
    "import numpy as np\n",
    "import copy\n",
    "from sys import path as syspath\n",
    "import matplotlib.pyplot as plt\n",
    "import pandas as pd\n",
    "import pickle\n",
    "from sklearn import linear_model\n",
    "import sklearn"
   ]
  },
  {
   "cell_type": "code",
   "execution_count": 8,
   "id": "a7f287bc-6fbc-4f85-b1bb-5c57b6bd9333",
   "metadata": {},
   "outputs": [
    {
     "data": {
      "text/plain": [
       "'/mnt/c/users/timot/desktop/lagator/Brickplot_from_seq/Thermoters-master/functions/fastFunctions_source'"
      ]
     },
     "execution_count": 8,
     "metadata": {},
     "output_type": "execute_result"
    }
   ],
   "source": [
    "os.chdir(model_path+'functions/fastFunctions_source')\n",
    "os.getcwd()"
   ]
  },
  {
   "cell_type": "code",
   "execution_count": null,
   "id": "06268428-28b2-4580-bf48-51db1d844d3d",
   "metadata": {},
   "outputs": [],
   "source": [
    "!python3 setup_ubuntu.py build_ext --inplace"
   ]
  },
  {
   "cell_type": "code",
   "execution_count": 10,
   "id": "89c73b48-f070-41a9-8f25-d67533fcfa4a",
   "metadata": {},
   "outputs": [],
   "source": [
    "os.chdir(model_path+'notebooks/')\n",
    "os.getcwd()\n",
    "syspath.append(model_path+'data/')\n",
    "syspath.append(model_path+'functions/')\n",
    "os.getcwd()\n",
    "\n",
    "\n",
    "from fastFunctions import bindingEnergies, getDiNu, tensum\n",
    "\n",
    "# this imports the data and functions from definitions\n",
    "#exec(open(model_path+\"functions/definitions_bigfit_10.py\").read())\n",
    "exec(open(model_path+\"functions/definitions_bigfit_10.py_deprecated\").read())"
   ]
  },
  {
   "cell_type": "code",
   "execution_count": 11,
   "id": "431095f6-16b9-4b60-9593-6a9f921c5bfe",
   "metadata": {},
   "outputs": [],
   "source": [
    "bases = \"acgt\"\n",
    "lett_to_index = dict(zip(bases, range(4)))\n",
    "\n",
    "## Display options (adjusted to Mac)\n",
    "%matplotlib inline\n",
    "%config InlineBackend.figure_format = 'retina'"
   ]
  },
  {
   "cell_type": "code",
   "execution_count": 12,
   "id": "184dd00d-de15-4b8d-b7f0-3b490c363f01",
   "metadata": {},
   "outputs": [],
   "source": [
    "is_plus_one = True # True - a brick points to +1; False - points to -40\n",
    "if is_plus_one: # shift for sequence to adjust +1 or -40\n",
    "    shift = 40\n",
    "else:\n",
    "    shift = 0\n",
    "    \n",
    "is_reverse_complement = False # If True, reverse complement fasta seqs, then treat as usual\n",
    "\n",
    "# For visualisation\n",
    "\n",
    "max_value = -2.5\n",
    "min_value = -6\n",
    "\n",
    "is_high_to_default = False # If True, visualize brickplot values > treshold as default value\n",
    "treshold = -2.5\n",
    "default_value = max_value \n",
    "color_map = 'hot'\n",
    "\n",
    "is_prefix_suffix = True # True - add Gs to the begining and end of each sequence to make it equal length and space for matrix"
   ]
  },
  {
   "cell_type": "code",
   "execution_count": 13,
   "id": "13de319c-3be0-4c93-9672-8b4f12713c28",
   "metadata": {},
   "outputs": [
    {
     "name": "stdout",
     "output_type": "stream",
     "text": [
      "v1\n",
      "sequence length = 291\n",
      "CGCCAGCAACCGCACCTGTGGCGCCGGTGATGCCGGCCACGATGCGTCCGGCGTAGAGGATCTGCTCATGTTTGACAGCTTATCATCGATAGCTAACAATTCGTTCAAGCCGAGCCCGCTTTGCGGTCTCGGACCGACCGGAGCCGCATCGGGCGGGCCGGCTTAACTCAGGCGTTAGGTTTGCATAAAATTTACGGTTCTAGGGTTTATGCTGAGAGAAGAGAGAGGCGAGCCTGCTGTTATGATACTTGTGAAGGGCGGCACTCTGTCGTCTAATTCTAGTTAGACATC\n"
     ]
    }
   ],
   "source": [
    "# Import promoters seqs data\n",
    "fasta_reader = open(input_fasta_filepath, 'r')\n",
    "\n",
    "# Initial sequences: fasta -> dict\n",
    "dict_seqs = {}\n",
    "max_seq_len = 0\n",
    "for line in fasta_reader:\n",
    "    if line.startswith('>'):\n",
    "        seq_id = line.strip('>').strip()\n",
    "        print(seq_id)\n",
    "    else:\n",
    "        seq = line.strip('\"').strip()\n",
    "        if seq == '':\n",
    "            continue\n",
    "        else:\n",
    "            if is_reverse_complement:\n",
    "                seq = str(Seq(seq).reverse_complement())\n",
    "        print('sequence length = '+str(len(seq)))\n",
    "        if max_seq_len < len(seq):\n",
    "            max_seq_len = len(seq)\n",
    "        print(seq)\n",
    "        dict_seqs[seq_id] = seq\n",
    "        \n",
    "fasta_reader.close()\n",
    "\n",
    "# Sequences unified by length (TO MODIFY?)\n",
    "# Add artificial 'g's in the begining and the end of all sequences to mak ethem equal by length\n",
    "unified_seqs_dict = {}\n",
    "for seq_id in dict_seqs:\n",
    "    seq = dict_seqs[seq_id]\n",
    "    if is_prefix_suffix:\n",
    "        prefix = str('g'*(max_seq_len - len(seq)+shift+5))\n",
    "        suffix = str('g'*(32+2+shift))\n",
    "        unified_seqs_dict[seq_id] = (prefix+seq+suffix).lower()\n",
    "    else:\n",
    "        unified_seqs_dict[seq_id] = seq.lower()\n",
    "        \n",
    "    #print(len(unified_seqs_dict[seq_id]))\n",
    "        \n",
    "# Seqs as numbers: 1) list of Int arrays made from Sequences unified by length, 2) list of seq_ids     \n",
    "num_unified_seqs = []\n",
    "seq_ids = []\n",
    "for seq_id in unified_seqs_dict:\n",
    "    seq_ids.append(seq_id)\n",
    "    \n",
    "num_unified_seqs = np.array([np.array([lett_to_index[l] for l in s]) for s in unified_seqs_dict.values()])\n",
    "\n",
    "# Change so compatible with cython\n",
    "num_unified_seqs = np.array(num_unified_seqs, dtype=np.int8)  # Make sure this is int8"
   ]
  },
  {
   "cell_type": "markdown",
   "id": "1e08f290-11be-4776-88f4-0c39a9863ead",
   "metadata": {},
   "source": [
    "### Import the model"
   ]
  },
  {
   "cell_type": "code",
   "execution_count": 14,
   "id": "f9cf10ad-aa28-4f60-9d2a-83ee37a93db6",
   "metadata": {},
   "outputs": [
    {
     "name": "stdout",
     "output_type": "stream",
     "text": [
      "/mnt/c/users/timot/desktop/lagator/Brickplot_from_seq/Thermoters-master/\n"
     ]
    }
   ],
   "source": [
    "print(model_path)"
   ]
  },
  {
   "cell_type": "code",
   "execution_count": null,
   "id": "1b9ca164-8233-48c5-b1c7-f3048e575b84",
   "metadata": {},
   "outputs": [],
   "source": [
    "# Import the model\n",
    "dmp_path = model_path + \"models/fitted_on_Pr.Pl.36N/model_[2]_stm+flex+cumul.dmp\"\n",
    "print(dmp_path)\n",
    "with open(dmp_path,\"rb\") as f:\n",
    "    model = pickle.load(f, encoding=\"latin1\")"
   ]
  },
  {
   "cell_type": "code",
   "execution_count": 16,
   "id": "646c9236-0a46-4053-bfc1-ae10faf0e3b0",
   "metadata": {},
   "outputs": [
    {
     "name": "stdout",
     "output_type": "stream",
     "text": [
      "The total footprint of RNAp = 32\n"
     ]
    }
   ],
   "source": [
    "leftFoot, rightFoot = model[\"matrices\"]\n",
    "defaultSpacer       = model[\"Layout\"][1]\n",
    "spacerFlexibility   = model[\"spFlex\"]\n",
    "spacerPenalties     = model[\"sp.penalties\"]\n",
    "\n",
    "# the total footprint of RNAp\n",
    "print('The total footprint of RNAp = '+str(sum(model[\"Layout\"])))"
   ]
  },
  {
   "cell_type": "code",
   "execution_count": 17,
   "id": "0f82bfbd-ab32-4fd0-8126-2fb990c68e5f",
   "metadata": {},
   "outputs": [
    {
     "name": "stdout",
     "output_type": "stream",
     "text": [
      "The matrix size = (32, 4)\n"
     ]
    }
   ],
   "source": [
    "matrix = np.vstack([\n",
    "    leftFoot,\n",
    "    np.ones((defaultSpacer,4))*np.nan,\n",
    "    rightFoot\n",
    "])\n",
    "\n",
    "print('The matrix size = '+str(matrix.shape))"
   ]
  },
  {
   "cell_type": "code",
   "execution_count": 18,
   "id": "ecf530ac-dab9-462e-b5a5-d5d9c84c3c70",
   "metadata": {},
   "outputs": [
    {
     "name": "stdout",
     "output_type": "stream",
     "text": [
      "The matrix itself:\n",
      "[[ 0.          0.          0.          0.          0.          0.\n",
      "   0.          0.          0.          0.          0.          0.\n",
      "          nan         nan         nan         nan         nan         nan\n",
      "          nan         nan  0.          0.          0.          0.\n",
      "   0.          0.          0.          0.          0.          0.\n",
      "   0.          0.        ]\n",
      " [ 0.67076759 -0.29309879  0.79375497  1.53957    -0.95386856  1.69613292\n",
      "  -1.800276    1.43133282  0.37573576  0.35488023 -0.25274799  0.05524443\n",
      "          nan         nan         nan         nan         nan         nan\n",
      "          nan         nan -0.08365061  0.71316041  0.09903286  0.09685599\n",
      "  -0.28588    -1.14513958  5.98258833  0.13406241  1.91753541  0.85337357\n",
      "   0.38857215  0.79529461]\n",
      " [ 0.26970059 -0.06229718 -0.42418894  0.17053728 -5.75540161  4.08121762\n",
      "   0.49754882  1.32080299  0.53275453  0.47147459  0.05417641 -0.09901183\n",
      "          nan         nan         nan         nan         nan         nan\n",
      "          nan         nan -0.01261218  0.32559959 -0.54706157 -0.92935697\n",
      "  -0.72195859 -0.268144    6.64292141  0.41523015  2.09694441  2.16088699\n",
      "   0.65570787  0.28109602]\n",
      " [ 0.12051359  1.75095661 -4.33505198 -2.30796366 -3.47358072  2.47641041\n",
      "  -0.19996559  0.52549457 -0.48724802 -0.13813643 -0.33882    -0.06191385\n",
      "          nan         nan         nan         nan         nan         nan\n",
      "          nan         nan -0.97566557  1.48468667 -1.4901504  -0.45294203\n",
      "  -0.36958541 -4.91117659  4.36160883 -1.199277    1.7169768   2.36528878\n",
      "  -4.3819753   0.39424276]]\n"
     ]
    },
    {
     "data": {
      "image/png": "[encoded data removed]",
      "text/plain": [
       "<Figure size 640x480 with 1 Axes>"
      ]
     },
     "metadata": {
      "image/png": {
       "height": 105,
       "width": 534
      }
     },
     "output_type": "display_data"
    }
   ],
   "source": [
    "plt.imshow(matrix.T, cmap=color_map);\n",
    "print('The matrix itself:')\n",
    "\n",
    "#plt.savefig(\"lagator_heatmap.pdf\")\n",
    "\n",
    "print(matrix.T)"
   ]
  },
  {
   "cell_type": "code",
   "execution_count": 19,
   "id": "68f50c1b-6a54-492f-8f25-85e9f092354f",
   "metadata": {},
   "outputs": [
    {
     "name": "stdout",
     "output_type": "stream",
     "text": [
      "<class 'numpy.float64'>\n",
      "<class 'numpy.float64'>\n",
      "<class 'numpy.int64'>\n",
      "<class 'int'>\n",
      "<class 'numpy.float64'>\n",
      "<class 'numpy.int8'>\n"
     ]
    }
   ],
   "source": [
    "print(type(leftFoot[0][0]))\n",
    "print(type(rightFoot[0][0]))\n",
    "print(type(defaultSpacer))\n",
    "print(type(spacerFlexibility))\n",
    "print(type(spacerPenalties[0]))\n",
    "print(type(num_unified_seqs[0][0]))"
   ]
  },
  {
   "cell_type": "markdown",
   "id": "81b306a7-31fb-464c-a2ae-f092facc253b",
   "metadata": {},
   "source": [
    "### Create \"brickplots\""
   ]
  },
  {
   "cell_type": "code",
   "execution_count": 21,
   "id": "5f003942-328b-4a2e-8e89-1b7ac273471d",
   "metadata": {},
   "outputs": [
    {
     "name": "stdout",
     "output_type": "stream",
     "text": [
      "defaultSpacer = 8\n"
     ]
    }
   ],
   "source": [
    "bricks = getBricks(\n",
    "    twoMatrices = [leftFoot,rightFoot],\n",
    "    minSpacer = defaultSpacer-spacerFlexibility, # minimal spacer\n",
    "    spacerPenalties = spacerPenalties,\n",
    "    sequences = num_unified_seqs\n",
    ")\n",
    "\n",
    "# Default spacer corresponds to spacer flex = 0 on a brickplot\n",
    "print('defaultSpacer = '+str(defaultSpacer))"
   ]
  },
  {
   "cell_type": "code",
   "execution_count": 24,
   "id": "d5939fa8-ce71-49ab-a801-356c6b15174b",
   "metadata": {},
   "outputs": [
    {
     "name": "stdout",
     "output_type": "stream",
     "text": [
      "gggggcgccagcaaccgcacctgtggcgccggtgatgccggccacgatgcgtccggcgtagaggatctgctcatgtttgacagcttatcatcgatagctaacaattcgttcaagccgagcccgctttgcggtctcggaccgaccggagccgcatcgggcgggccggcttaactcaggcgttaggtttgcataaaatttacggttctagggtttatgctgagagaagagagaggcgagcctgctgttatgatacttgtgaagggcggcactctgtcgtctaattctagttagacatcggggggggggggggggggggggggggggggggggggggggg\n",
      "\n",
      "extended seg_len = 337\n"
     ]
    },
    {
     "data": {
      "image/png": "[encoded data removed]",
      "text/plain": [
       "<Figure size 4000x300 with 2 Axes>"
      ]
     },
     "metadata": {
      "image/png": {
       "height": 296,
       "width": 2791
      }
     },
     "output_type": "display_data"
    }
   ],
   "source": [
    "def remove_high_values(brick_in, treshold, default_value):\n",
    "# Make values > treshold to be default value (for better visualization)\n",
    "    brick_out = copy.deepcopy(brick_in)\n",
    "    for i in range(brick_in.shape[0]):\n",
    "        for j in range(brick_in.shape[1]):\n",
    "            if brick_in[i,j] > treshold:\n",
    "                brick_out[i,j] = default_value\n",
    "    return brick_out\n",
    "                \n",
    "for i in range(len(num_unified_seqs)):\n",
    "    curr_seq = unified_seqs_dict[seq_ids[i]][shift:-matrix.shape[0]-1]\n",
    "    print(curr_seq)\n",
    "    print('')\n",
    "    print('extended seg_len = '+str(len(curr_seq)))\n",
    "    theBrick = bricks.T[i]\n",
    "    \n",
    "    if is_high_to_default:\n",
    "        theBrick_to_display = remove_high_values(theBrick, treshold, default_value)\n",
    "    else:\n",
    "        theBrick_to_display = theBrick\n",
    "\n",
    "    plt.figure(figsize=(40,3))\n",
    "    plt.imshow(theBrick_to_display.T[:,:theBrick_to_display.shape[0]-shift+1], cmap=color_map)\n",
    "    plt.title(seq_ids[i])\n",
    "    plt.yticks(range(5), np.arange(5)-2, fontsize=15)\n",
    "    plt.xticks(range(len(curr_seq)), [char for char in curr_seq], fontsize=10)\n",
    "    plt.clim([min_value,max_value])\n",
    "    plt.ylabel('spacer\\nflex', fontsize=15)\n",
    "    plt.gca().set_aspect(\"auto\")\n",
    "    plt.colorbar()"
   ]
  },
  {
   "cell_type": "code",
   "execution_count": 25,
   "id": "0529c64d-4cd2-43b4-82ec-137593d5b3b7",
   "metadata": {},
   "outputs": [],
   "source": [
    "def brick2lps(bricks_DNIs,\n",
    "              fitpars,\n",
    "              thresholdPosDict_ = None,\n",
    "              bindMode_ = None,\n",
    "              useChemPot = \"chem.pot\"\n",
    "             ):\n",
    "    \n",
    "    out = {}               \n",
    "    if thresholdPosDict_ is None: # No threshold position given\n",
    "        thresholdPosDict_ = fitpars[\"ThDict\"]\n",
    "    if bindMode_ is None: # No bindMode given\n",
    "        bindMode_ = fitpars[\"bindMode\"]\n",
    "    \n",
    "    # Try to get clearance rate\n",
    "    try:\n",
    "        R_ = np.exp(fitpars[\"logClearanceRate\"])\n",
    "    except:\n",
    "        R_ = None\n",
    "    \n",
    "    # Loop over bricks\n",
    "    for dataID_ in bricks_DNIs:\n",
    "        if \"_rc\" in dataID_: # Skip reverse complement?\n",
    "            continue\n",
    "        \n",
    "        # Get binding energies\n",
    "        bdni = bricks_DNIs[dataID_]\n",
    "       \n",
    "        # Get threshold position\n",
    "        try:\n",
    "            thresholdPos = thresholdPosDict_.get(dataID_, thresholdPosDict_[\"Prl\"])\n",
    "        except:\n",
    "            for k in thresholdPosDict_:\n",
    "                if dataID_ in k:\n",
    "                    thresholdPos = thresholdPosDict_[k]\n",
    "                    break\n",
    "        if thresholdPos <= 0:\n",
    "            thresholdPos = bdni.shape[1] + thresholdPos\n",
    "        # If the bricks d n i\n",
    "        off = thresholdPos < bdni.shape[1]\n",
    "    \n",
    "        # Handle bind mode\n",
    "        if bindMode_ == \"add\":\n",
    "            if R_ is None:\n",
    "                bindF = lambda xi: -logsumexp(-xi, axis = tuple(range(1, xi.ndim)))\n",
    "            else:\n",
    "                bindF = lambda xi: -np.log(np.sum(\n",
    "                                    1.0/(np.exp(xi) + R_),\n",
    "                                    axis = tuple(range(1,xi.ndim))\n",
    "                                            ))\n",
    "        elif bindMode_ == \"max\":\n",
    "            bindF = lambda xi: np.min(xi, axis = tuple(range(1, xi.ndim)))\n",
    "        \n",
    "        # \n",
    "        effON_ = bindF(bdni[:, :thresholdPos])\n",
    "        if off:\n",
    "            effOFF_ = bindF(bdni[:, thresholdPos:])\n",
    "        else:\n",
    "            effOFF_ = 0.\n",
    "  # Reverse complement\n",
    "        if dataID_ + \"_rc\" in bricks_DNIs:\n",
    "            bdni_rc = bricks_DNIs[dataID_ + \"_rc\"]\n",
    "            rcOcclusion = fitpars.get(\"rcOcclusion\", np.arange(bdni_rc.shape[1]))\n",
    "            effOFF_ += bindF(bdni_rc[:, rcOcclusion])\n",
    "        Pons_ = np.exp(-effON_) / (1.0 + np.exp(-effON_) + np.exp(-effOFF_))\n",
    "        out[dataID_] = np.log10(Pons_)\n",
    "    \n",
    "    return out"
   ]
  },
  {
   "cell_type": "code",
   "execution_count": 26,
   "id": "61a8a78b-40f0-4db6-8772-59caa6e285aa",
   "metadata": {},
   "outputs": [
    {
     "name": "stdout",
     "output_type": "stream",
     "text": [
      "(1, 376, 5)\n",
      "{'Pr.Pl': -17.908525893586578, '36N': -18.51051925714286}\n",
      "<class 'numpy.ndarray'>\n",
      "log(Pon) = [-0.47883907]\n",
      "Pon = [0.33201746]\n"
     ]
    }
   ],
   "source": [
    "#print(bricks.T)\n",
    "print(bricks.T.shape)\n",
    "print((model[\"chem.pot\"]))\n",
    "chemPot = model[\"chem.pot\"][\"Pr.Pl\"]\n",
    "energyScale = model[\"en.scale\"]\n",
    "logPons = brick2lps({\"Pr\": energyScale*(bricks.T-chemPot)}, model)[\"Pr\"]\n",
    "print(type(logPons))\n",
    "print('log(Pon) = '+str(logPons))\n",
    "print('Pon = '+ str(10**logPons))"
   ]
  },
  {
   "cell_type": "markdown",
   "id": "9f29f698-2d8c-4899-b033-72493aa85dc1",
   "metadata": {},
   "source": [
    "# A function to look for promoters in a given sequence using a sliding window:"
   ]
  },
  {
   "cell_type": "code",
   "execution_count": 32,
   "id": "028d10e5-69b2-4b58-85f7-372aae8c32b0",
   "metadata": {},
   "outputs": [],
   "source": [
    "def sliding_window_lagator(sequence, orientation, window_size):\n",
    "\n",
    "    sequence = str(sequence).lower()\n",
    "    if orientation == 'bottom':\n",
    "        sequence = str(Seq(sequence).reverse_complement())\n",
    "    if 'n' in sequence:\n",
    "        pass\n",
    "    else:\n",
    "        \n",
    "        probabilities = []\n",
    "        for window_start in range(len(sequence)):\n",
    "            cropped_sequence = sequence[window_start:window_start+window_size]\n",
    "            if window_start + window_size <= len(sequence):\n",
    "                #print(cropped_sequence)\n",
    "    \n",
    "                # Add 40 G's upstream and downstream of the sequence...\n",
    "                cropped_sequence = 'gggggggggggggggggggggggggggggggggggggggg' + cropped_sequence + 'gggggggggggggggggggggggggggggggggggggggg'\n",
    "    \n",
    "                unified_seqs_dict = {}\n",
    "                unified_seqs_dict['test'] = cropped_sequence\n",
    "            \n",
    "                # Process seqeunce for the brick plots     \n",
    "                num_unified_seqs = []\n",
    "                seq_ids = []\n",
    "                for seq_id in unified_seqs_dict:\n",
    "                    seq_ids.append(seq_id)  \n",
    "                num_unified_seqs = np.array([np.array([lett_to_index[l] for l in s]) for s in unified_seqs_dict.values()])\n",
    "                num_unified_seqs = np.array(num_unified_seqs, dtype=np.int8)  # Make sure this is int8\n",
    "            \n",
    "                # Calculate the promoters\n",
    "                bricks = getBricks(twoMatrices = [leftFoot,rightFoot], minSpacer = defaultSpacer-spacerFlexibility, spacerPenalties = spacerPenalties, sequences = num_unified_seqs)\n",
    "                theBrick = bricks.T\n",
    "                chemPot = model[\"chem.pot\"][\"Pr.Pl\"]\n",
    "                energyScale = model[\"en.scale\"]\n",
    "                logPons = brick2lps({\"Pr\": energyScale*(bricks.T-chemPot)}, model)[\"Pr\"]\n",
    "                Pon = 10**logPons\n",
    "    \n",
    "                # Add to the list\n",
    "                probabilities.append(float(Pon))\n",
    "\n",
    "        #probabilities = list(probabilities)\n",
    "        return probabilities"
   ]
  },
  {
   "cell_type": "markdown",
   "id": "eb757323-badb-4063-a713-7f9118568448",
   "metadata": {},
   "source": [
    "# Look for promoters on the 706 IS3s on the TOP strand\n",
    "(This takes a while to run...)"
   ]
  },
  {
   "cell_type": "code",
   "execution_count": 52,
   "id": "31d1cc56-fc83-49c5-bb29-dc4d93e647a5",
   "metadata": {},
   "outputs": [
    {
     "name": "stdout",
     "output_type": "stream",
     "text": [
      "done.\n"
     ]
    }
   ],
   "source": [
    "probability_dictionary = {}\n",
    "for record in SeqIO.parse(\"IS3_all.fasta\", 'fasta'):\n",
    "    sequence = record.seq\n",
    "    probabilities = sliding_window_lagator(sequence, 'top', 36)\n",
    "    probability_dictionary[record.id] = probabilities\n",
    "print('done.')"
   ]
  },
  {
   "cell_type": "markdown",
   "id": "56a20898-08bc-4eee-818d-09f55cea0184",
   "metadata": {},
   "source": [
    "### Find promoters with score >= 0.5:"
   ]
  },
  {
   "cell_type": "code",
   "execution_count": 53,
   "id": "ee0a3bea-dda1-4aa8-a1f6-1ee0a2296055",
   "metadata": {},
   "outputs": [
    {
     "name": "stdout",
     "output_type": "stream",
     "text": [
      "[ 85  48  45  17  24  10   9  34  10 131]\n"
     ]
    },
    {
     "data": {
      "image/png": "[encoded data removed]",
      "text/plain": [
       "<Figure size 640x480 with 1 Axes>"
      ]
     },
     "metadata": {
      "image/png": {
       "height": 418,
       "width": 552
      }
     },
     "output_type": "display_data"
    }
   ],
   "source": [
    "from scipy.signal import find_peaks\n",
    "\n",
    "# A list of where promoter signatures are located across all the IS3s\n",
    "positions = []\n",
    "for key in dict.keys(probability_dictionary):\n",
    "    probabilities = probability_dictionary[key]\n",
    "    if probabilities is not None:\n",
    "\n",
    "        # Locate peaks in the probabilities list\n",
    "        indexes, properties = find_peaks(probabilities, height=0.5, distance=1)\n",
    "\n",
    "        for index in indexes:\n",
    "            positions.append(index/len(probabilities))\n",
    "\n",
    "# Create histogram\n",
    "plt.hist(positions, bins=10, color='skyblue', edgecolor='black')\n",
    "plt.ylim(0,140)\n",
    "\n",
    "counts, bin_edges = np.histogram(positions, bins=10)\n",
    "print(counts)"
   ]
  },
  {
   "cell_type": "markdown",
   "id": "d2c1b6ad-cc7f-41e2-8136-f5598d7f7ebf",
   "metadata": {},
   "source": [
    "### Find promoters with score >= 0.7"
   ]
  },
  {
   "cell_type": "code",
   "execution_count": 54,
   "id": "82c4b4d4-4117-4ee0-87c8-f292cf8a69d1",
   "metadata": {},
   "outputs": [
    {
     "name": "stdout",
     "output_type": "stream",
     "text": [
      "[51 26 37  2  7  5  3 15  1 69]\n"
     ]
    },
    {
     "data": {
      "image/png": "[encoded data removed]",
      "text/plain": [
       "<Figure size 640x480 with 1 Axes>"
      ]
     },
     "metadata": {
      "image/png": {
       "height": 418,
       "width": 552
      }
     },
     "output_type": "display_data"
    }
   ],
   "source": [
    "from scipy.signal import find_peaks\n",
    "\n",
    "# A list of where promoter signatures are located across all the IS3s\n",
    "positions = []\n",
    "for key in dict.keys(probability_dictionary):\n",
    "    probabilities = probability_dictionary[key]\n",
    "    if probabilities is not None:\n",
    "\n",
    "        # Locate peaks in the probabilities list\n",
    "        indexes, properties = find_peaks(probabilities, height=0.7, distance=1)\n",
    "\n",
    "        for index in indexes:\n",
    "            positions.append(index/len(probabilities))\n",
    "\n",
    "# Create histogram\n",
    "plt.hist(positions, bins=10, color='skyblue', edgecolor='black')\n",
    "plt.ylim(0,140)\n",
    "\n",
    "counts, bin_edges = np.histogram(positions, bins=10)\n",
    "print(counts)"
   ]
  },
  {
   "cell_type": "markdown",
   "id": "7df90550-27c4-4527-8993-7307a50fe07b",
   "metadata": {},
   "source": [
    "### Find promoters with score >= 0.9"
   ]
  },
  {
   "cell_type": "code",
   "execution_count": 55,
   "id": "95a0a5f2-b12b-48bb-918e-dbd435cd0a5f",
   "metadata": {},
   "outputs": [
    {
     "name": "stdout",
     "output_type": "stream",
     "text": [
      "[26 10  2  0  2  3  0  0  0 33]\n"
     ]
    },
    {
     "data": {
      "image/png": "[encoded data removed]",
      "text/plain": [
       "<Figure size 640x480 with 1 Axes>"
      ]
     },
     "metadata": {
      "image/png": {
       "height": 418,
       "width": 553
      }
     },
     "output_type": "display_data"
    }
   ],
   "source": [
    "from scipy.signal import find_peaks\n",
    "\n",
    "# A list of where promoter signatures are located across all the IS3s\n",
    "positions = []\n",
    "for key in dict.keys(probability_dictionary):\n",
    "    probabilities = probability_dictionary[key]\n",
    "    if probabilities is not None:\n",
    "\n",
    "        # Locate peaks in the probabilities list\n",
    "        indexes, properties = find_peaks(probabilities, height=0.9, distance=1)\n",
    "\n",
    "        for index in indexes:\n",
    "            positions.append(index/len(probabilities))\n",
    "\n",
    "# Create histogram\n",
    "plt.hist(positions, bins=10, color='skyblue', edgecolor='black')\n",
    "plt.ylim(0,140)\n",
    "\n",
    "counts, bin_edges = np.histogram(positions, bins=10)\n",
    "print(counts)"
   ]
  },
  {
   "cell_type": "markdown",
   "id": "6c182c4b-f20d-4626-b8df-3a34cf479235",
   "metadata": {},
   "source": [
    "# Look for promoters on the 706 IS3s on the BOTTOM strand"
   ]
  },
  {
   "cell_type": "code",
   "execution_count": null,
   "id": "e88070d7-760c-445f-a708-1a5fd5ed7add",
   "metadata": {},
   "outputs": [],
   "source": [
    "probability_dictionary = {}\n",
    "for record in SeqIO.parse(\"IS3_all.fasta\", 'fasta'):\n",
    "    sequence = record.seq\n",
    "    probabilities = sliding_window_lagator(sequence, 'bottom', 36)\n",
    "    probability_dictionary[record.id] = probabilities\n",
    "print('done.')"
   ]
  },
  {
   "cell_type": "markdown",
   "id": "3e4bda3c-5bcf-4bda-af5a-797394c47170",
   "metadata": {},
   "source": [
    "### Find promoters with score >= 0.5:"
   ]
  },
  {
   "cell_type": "code",
   "execution_count": null,
   "id": "f7b2dd92-69df-4d82-aebb-13882a2b224d",
   "metadata": {},
   "outputs": [],
   "source": [
    "from scipy.signal import find_peaks\n",
    "\n",
    "# A list of where promoter signatures are located across all the IS3s\n",
    "positions = []\n",
    "for key in dict.keys(probability_dictionary):\n",
    "    probabilities = probability_dictionary[key]\n",
    "    if probabilities is not None:\n",
    "\n",
    "        # Locate peaks in the probabilities list\n",
    "        indexes, properties = find_peaks(probabilities, height=0.5, distance=1)\n",
    "\n",
    "        for index in indexes:\n",
    "            positions.append(index/len(probabilities))\n",
    "\n",
    "# Create histogram\n",
    "plt.hist(positions, bins=10, color='indianred', edgecolor='black')\n",
    "plt.ylim(0,140)\n",
    "\n",
    "counts, bin_edges = np.histogram(positions, bins=10)\n",
    "print(counts)"
   ]
  },
  {
   "cell_type": "markdown",
   "id": "f651d775-8f05-4af5-83ca-f54b8a0ec4ec",
   "metadata": {},
   "source": [
    "### Find promoters with score >= 0.7:"
   ]
  },
  {
   "cell_type": "code",
   "execution_count": null,
   "id": "f1a2cb09-3293-4a58-ae86-f80224721ccd",
   "metadata": {},
   "outputs": [],
   "source": [
    "from scipy.signal import find_peaks\n",
    "\n",
    "# A list of where promoter signatures are located across all the IS3s\n",
    "positions = []\n",
    "for key in dict.keys(probability_dictionary):\n",
    "    probabilities = probability_dictionary[key]\n",
    "    if probabilities is not None:\n",
    "\n",
    "        # Locate peaks in the probabilities list\n",
    "        indexes, properties = find_peaks(probabilities, height=0.7, distance=1)\n",
    "\n",
    "        for index in indexes:\n",
    "            positions.append(index/len(probabilities))\n",
    "\n",
    "# Create histogram\n",
    "plt.hist(positions, bins=10, color='indianred', edgecolor='black')\n",
    "plt.ylim(0,140)\n",
    "\n",
    "counts, bin_edges = np.histogram(positions, bins=10)\n",
    "print(counts)"
   ]
  },
  {
   "cell_type": "markdown",
   "id": "3f536878-a8eb-41d7-9bc0-e67e8bfcc21e",
   "metadata": {},
   "source": [
    "### Find promoters with score >= 0.9:"
   ]
  },
  {
   "cell_type": "code",
   "execution_count": null,
   "id": "dfbaf8ec-ae64-4b1e-81ff-d801dcead6fa",
   "metadata": {},
   "outputs": [],
   "source": [
    "from scipy.signal import find_peaks\n",
    "\n",
    "# A list of where promoter signatures are located across all the IS3s\n",
    "positions = []\n",
    "for key in dict.keys(probability_dictionary):\n",
    "    probabilities = probability_dictionary[key]\n",
    "    if probabilities is not None:\n",
    "\n",
    "        # Locate peaks in the probabilities list\n",
    "        indexes, properties = find_peaks(probabilities, height=0.9, distance=1)\n",
    "\n",
    "        for index in indexes:\n",
    "            positions.append(index/len(probabilities))\n",
    "\n",
    "# Create histogram\n",
    "plt.hist(positions, bins=10, color='indianred', edgecolor='black')\n",
    "plt.ylim(0,140)\n",
    "\n",
    "counts, bin_edges = np.histogram(positions, bins=10)\n",
    "print(counts)"
   ]
  }
 ],
 "metadata": {
  "kernelspec": {
   "display_name": "Python 3 (ipykernel)",
   "language": "python",
   "name": "python3"
  },
  "language_info": {
   "codemirror_mode": {
    "name": "ipython",
    "version": 3
   },
   "file_extension": ".py",
   "mimetype": "text/x-python",
   "name": "python",
   "nbconvert_exporter": "python",
   "pygments_lexer": "ipython3",
   "version": "3.10.12"
  }
 },
 "nbformat": 4,
 "nbformat_minor": 5
}
